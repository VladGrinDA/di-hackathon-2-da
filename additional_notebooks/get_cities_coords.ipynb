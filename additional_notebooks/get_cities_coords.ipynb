{
 "cells": [
  {
   "cell_type": "code",
   "execution_count": 1,
   "metadata": {},
   "outputs": [],
   "source": [
    "import pandas as pd\n",
    "\n",
    "df = pd.read_csv('datasets/sales_2018-09-23_2024-09-29.csv')\n"
   ]
  },
  {
   "cell_type": "code",
   "execution_count": null,
   "metadata": {},
   "outputs": [],
   "source": [
    "from geopy.geocoders import Nominatim\n",
    "from geopy.exc import GeocoderTimedOut, GeocoderUnavailable\n",
    "\n",
    "def get_lat_lon(city):\n",
    "    geolocator = Nominatim(user_agent=\"my_agent\")\n",
    "    try:\n",
    "        location = geolocator.geocode(city)\n",
    "        if location:\n",
    "            return location.latitude, location.longitude\n",
    "        else:\n",
    "            return None, None\n",
    "    except (GeocoderTimedOut, GeocoderUnavailable):\n",
    "        return None, None\n",
    "\n",
    "# Create a dictionary to store city coordinates\n",
    "city_coordinates = {}\n",
    "\n",
    "# Get unique cities\n",
    "unique_cities = df['billing_city'].dropna().unique()\n",
    "\n",
    "# Get coordinates for each unique city\n",
    "for city in unique_cities:\n",
    "    if city not in city_coordinates:\n",
    "        lat, lon = get_lat_lon(city)\n",
    "        city_coordinates[city] = (lat, lon)\n",
    "\n",
    "# Add latitude and longitude columns to the dataframe\n",
    "df['latitude'] = df['billing_city'].map(lambda x: city_coordinates.get(x, (None, None))[0])\n",
    "df['longitude'] = df['billing_city'].map(lambda x: city_coordinates.get(x, (None, None))[1])\n",
    "\n",
    "# Print the first few rows to verify\n",
    "print(df[['billing_city', 'latitude', 'longitude']].head())\n"
   ]
  },
  {
   "cell_type": "code",
   "execution_count": null,
   "metadata": {},
   "outputs": [],
   "source": [
    "df[['billing_city', 'latitude', 'longitude']].to_csv('city_coordinates.csv', index=False)"
   ]
  }
 ],
 "metadata": {
  "kernelspec": {
   "display_name": "di-hack",
   "language": "python",
   "name": "python3"
  },
  "language_info": {
   "codemirror_mode": {
    "name": "ipython",
    "version": 3
   },
   "file_extension": ".py",
   "mimetype": "text/x-python",
   "name": "python",
   "nbconvert_exporter": "python",
   "pygments_lexer": "ipython3",
   "version": "3.12.3"
  }
 },
 "nbformat": 4,
 "nbformat_minor": 2
}
